{
 "cells": [
  {
   "cell_type": "code",
   "execution_count": 2,
   "id": "7ea87c3c",
   "metadata": {},
   "outputs": [
    {
     "name": "stdout",
     "output_type": "stream",
     "text": [
      "This declaration represents a political commitment among declaration partners to advance a positive vision for the Internet in this era of a united europe\n",
      "Printing word in reverse:\n",
      "\n",
      "Europe united a of era this in internet the for vision positive a advance to partners declaration among commitment political a represents declaration this\n",
      "\n",
      "Occurrence of words:\n",
      "\n",
      "a : 3 times\n",
      "this : 2 times\n"
     ]
    }
   ],
   "source": [
    "from statistics import mode\n",
    "input = input().lower().split(' ')\n",
    "input.reverse()\n",
    "input[0] = input[0].capitalize()\n",
    "print('Printing word in reverse:')\n",
    "print()\n",
    "print(*input)\n",
    "print()\n",
    "print('Occurrence of words:')\n",
    "print()\n",
    "temp = [wrd for sub in input for wrd in sub.split()]\n",
    "print(mode(temp),':',str(input.count(mode(temp))),'times')\n",
    "temp = [i for i in temp if i != mode(temp)]\n",
    "print(mode(temp),':',str(input.count(mode(temp))),'times')"
   ]
  },
  {
   "cell_type": "code",
   "execution_count": null,
   "id": "c01f83a7",
   "metadata": {},
   "outputs": [],
   "source": []
  }
 ],
 "metadata": {
  "kernelspec": {
   "display_name": "Python 3 (ipykernel)",
   "language": "python",
   "name": "python3"
  },
  "language_info": {
   "codemirror_mode": {
    "name": "ipython",
    "version": 3
   },
   "file_extension": ".py",
   "mimetype": "text/x-python",
   "name": "python",
   "nbconvert_exporter": "python",
   "pygments_lexer": "ipython3",
   "version": "3.9.7"
  }
 },
 "nbformat": 4,
 "nbformat_minor": 5
}
